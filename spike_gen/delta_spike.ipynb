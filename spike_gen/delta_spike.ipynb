{
 "cells": [
  {
   "cell_type": "code",
   "execution_count": null,
   "metadata": {},
   "outputs": [],
   "source": [
    "from utils.dataset import Dataset\n",
    "from utils.utils import plot_signals\n",
    "import numpy as np\n"
   ]
  },
  {
   "cell_type": "code",
   "execution_count": null,
   "metadata": {},
   "outputs": [],
   "source": [
    "# test = [ \n",
    "#     [1, 2, 3, 4, 5, 6, 7, 8, 9, 10],\n",
    "#     [1.9 , 2 , 2.7,3.8,2.4,3,3.8,4,5,6]\n",
    "#     ]\n",
    "# # test = np.zeros((2, 10))\n",
    "# test = np.array(test)\n",
    "# print(test)"
   ]
  },
  {
   "cell_type": "code",
   "execution_count": null,
   "metadata": {},
   "outputs": [],
   "source": [
    "# spike = delta_encoding(test , threshold=1 , off_spike=True , padding=True)\n",
    "# print(spike)"
   ]
  },
  {
   "cell_type": "code",
   "execution_count": null,
   "metadata": {},
   "outputs": [],
   "source": [
    "dataset = Dataset()\n",
    "data_path = '/home/ubuntu/Desktop/Projects/SNN/ecg_snn/dataset/'\n",
    "\n",
    "records, annotations = dataset.load_dataset(data_path)"
   ]
  },
  {
   "cell_type": "code",
   "execution_count": null,
   "metadata": {},
   "outputs": [],
   "source": [
    "X = []\n",
    "y = []\n",
    "X, y = dataset.preprocess(records, annotations)"
   ]
  },
  {
   "cell_type": "code",
   "execution_count": null,
   "metadata": {},
   "outputs": [],
   "source": [
    "print(len(X))"
   ]
  },
  {
   "cell_type": "code",
   "execution_count": null,
   "metadata": {},
   "outputs": [],
   "source": [
    "print(np.shape(X), np.shape(y))"
   ]
  },
  {
   "cell_type": "code",
   "execution_count": null,
   "metadata": {},
   "outputs": [],
   "source": [
    "from utils.utils import delta_encoding"
   ]
  },
  {
   "cell_type": "code",
   "execution_count": null,
   "metadata": {},
   "outputs": [],
   "source": [
    "X_spike = delta_encoding(X, threshold=55, off_spike=True, padding=True)"
   ]
  },
  {
   "cell_type": "code",
   "execution_count": null,
   "metadata": {},
   "outputs": [],
   "source": [
    "print(len(X_spike))"
   ]
  },
  {
   "cell_type": "code",
   "execution_count": null,
   "metadata": {},
   "outputs": [],
   "source": [
    "for row in X_spike : \n",
    "    for col in row :\n",
    "        print(col)"
   ]
  },
  {
   "cell_type": "code",
   "execution_count": null,
   "metadata": {},
   "outputs": [],
   "source": [
    "# folder_path = '/home/ubuntu/Desktop/Projects/SNN/ecg_snn/dataset/signals/'\n",
    "\n",
    "# data = np.column_stack((X, y))  # Stack X and y side by side\n",
    "# file_path = os.path.join(folder_path, 'data.txt')\n",
    "# np.savetxt(file_path, data, delimiter='\\t', fmt='%s')\n",
    "\n",
    "# print(f'Data saved to {file_path}')\n"
   ]
  },
  {
   "cell_type": "code",
   "execution_count": null,
   "metadata": {},
   "outputs": [],
   "source": []
  },
  {
   "cell_type": "code",
   "execution_count": null,
   "metadata": {},
   "outputs": [],
   "source": []
  },
  {
   "cell_type": "code",
   "execution_count": null,
   "metadata": {},
   "outputs": [],
   "source": [
    "# folder_path = '/home/ubuntu/Desktop/Projects/SNN/ecg_snn/dataset/signals/'\n",
    "\n",
    "# data = np.column_stack((X_rounded, y))  # Stack X and y side by side\n",
    "# file_path = os.path.join(folder_path, 'data.txt')\n",
    "# np.savetxt(file_path, data, delimiter='\\t', fmt='%s')\n",
    "\n",
    "# print(f'Data saved to {file_path}')"
   ]
  },
  {
   "cell_type": "code",
   "execution_count": null,
   "metadata": {},
   "outputs": [],
   "source": []
  }
 ],
 "metadata": {
  "kernelspec": {
   "display_name": "work",
   "language": "python",
   "name": "python3"
  },
  "language_info": {
   "codemirror_mode": {
    "name": "ipython",
    "version": 3
   },
   "file_extension": ".py",
   "mimetype": "text/x-python",
   "name": "python",
   "nbconvert_exporter": "python",
   "pygments_lexer": "ipython3",
   "version": "3.9.0"
  },
  "orig_nbformat": 4
 },
 "nbformat": 4,
 "nbformat_minor": 2
}
